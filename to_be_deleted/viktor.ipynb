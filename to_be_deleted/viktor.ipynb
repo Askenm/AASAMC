{
 "cells": [
  {
   "cell_type": "code",
   "execution_count": 2,
   "metadata": {},
   "outputs": [],
   "source": [
    "from preprocessing import load_data\n",
    "\n",
    "raw_data = load_data(path=\"../data/raw/train.json\")"
   ]
  },
  {
   "cell_type": "code",
   "execution_count": 3,
   "metadata": {},
   "outputs": [],
   "source": [
    "import json\n",
    "import pickle\n",
    "from sklearn.feature_extraction.text import CountVectorizer, TfidfVectorizer\n",
    "from typing import Dict\n",
    "from scipy.sparse.csr import csr_matrix"
   ]
  },
  {
   "cell_type": "code",
   "execution_count": 4,
   "metadata": {},
   "outputs": [],
   "source": [
    "updated_data = []\n",
    "corpus = []\n",
    "for i, entry in enumerate(raw_data):\n",
    "    entry_ingredients = [\n",
    "        ingredient.replace(\" \", \"\") for ingredient in entry[\"ingredients\"]\n",
    "    ]\n",
    "    corpus.append(\" \".join(entry_ingredients))\n",
    "    entry[\"representation_idx\"] = i\n",
    "    updated_data.append(entry.copy())"
   ]
  },
  {
   "cell_type": "code",
   "execution_count": 16,
   "metadata": {},
   "outputs": [
    {
     "name": "stdout",
     "output_type": "stream",
     "text": [
      "Creating the Count representation...\n"
     ]
    }
   ],
   "source": [
    "# 2. Create the count vectors.\n",
    "print(\"Creating the Count representation...\")\n",
    "vectorizer = CountVectorizer(min_df=10)\n",
    "one_hot_representation = vectorizer.fit_transform(corpus)\n",
    "vocab = vectorizer.vocabulary_"
   ]
  },
  {
   "cell_type": "code",
   "execution_count": 17,
   "metadata": {},
   "outputs": [
    {
     "data": {
      "text/plain": [
       "(39774, 2439)"
      ]
     },
     "execution_count": 17,
     "metadata": {},
     "output_type": "execute_result"
    }
   ],
   "source": [
    "one_hot_representation.toarray().shape"
   ]
  },
  {
   "cell_type": "code",
   "execution_count": null,
   "metadata": {},
   "outputs": [],
   "source": [
    "\"\"\"\n",
    "Load the dataset and create two kinds of representations:\n",
    "1. One-hot representation\n",
    "2. TF-IDF representation\n",
    "\n",
    "Everything will be saved in the data/processed folder as a json file with the keys:\n",
    "1. id\n",
    "2. cuisine\n",
    "3. ingredients\n",
    "4. onehot_representation\n",
    "5. tfidf_representation\n",
    "\n",
    "The one-hot and tf-idf representations are saved as a sparse matrix in the data/processed folder as pickles.\n",
    "\"\"\"\n",
    "import json\n",
    "import pickle\n",
    "from sklearn.feature_extraction.text import CountVectorizer, TfidfVectorizer\n",
    "from typing import Dict\n",
    "from scipy.sparse.csr import csr_matrix\n",
    "\n",
    "\n",
    "def save_embeddings_and_vocab(embeddings: csr_matrix, vocab: Dict, embedding_type: str):\n",
    "    \"\"\"Save the embeddings and the vocabulary to processed folder.\"\"\"\n",
    "    assert embedding_type in [\"onehot\", \"tfidf\"]\n",
    "    assert isinstance(embeddings, csr_matrix)\n",
    "    with open(f\"data/processed/{embedding_type}-embedding.pkl\", \"wb\") as outfile:\n",
    "        pickle.dump(embeddings, outfile)\n",
    "    with open(f\"data/processed/{embedding_type}-vocab.json\", \"w\") as outfile:\n",
    "        json.dump(vocab, outfile)\n",
    "\n",
    "\n",
    "def generate_representations(data: Dict, minimum_word_frequency: int = 5) -> Dict:\n",
    "    \"\"\"\n",
    "    Generate the one-hot and tf-idf representations of the ingredients.\n",
    "    The representations are saved in to individual files in the data/processed folder.\n",
    "    A word is added to the vocabulary if it appears at least 5 times in the corpus.\n",
    "    \"\"\"\n",
    "    # 1. Generate the corpus of all ingredients.\n",
    "    updated_data = []\n",
    "    corpus = []\n",
    "    for i, entry in enumerate(data):\n",
    "        entry_ingredients = [\n",
    "            ingredient.replace(\" \", \"\") for ingredient in entry[\"ingredients\"]\n",
    "        ]\n",
    "        corpus.append(\" \".join(entry_ingredients))\n",
    "        entry[\"representation_idx\"] = i\n",
    "        updated_data.append(entry.copy())\n",
    "\n",
    "    # 2. Create the count vectors.\n",
    "    print(\"Creating the Count representation...\")\n",
    "    vectorizer = CountVectorizer(min_df=minimum_word_frequency)\n",
    "    one_hot_representation = vectorizer.fit_transform(corpus)\n",
    "    vocab = vectorizer.vocabulary_\n",
    "    save_embeddings_and_vocab(one_hot_representation, vocab, \"count\")\n",
    "\n",
    "    # 3. Create the tf-idf representation of the ingredients.\n",
    "    print(\"Creating the tf-idf representation...\")\n",
    "    tfidf_vectorizer = TfidfVectorizer(min_df=minimum_word_frequency)\n",
    "    tfidf_representation = tfidf_vectorizer.fit_transform(corpus)\n",
    "    tfidf_vocab = tfidf_vectorizer.vocabulary_\n",
    "    save_embeddings_and_vocab(tfidf_representation, tfidf_vocab, \"tfidf\")\n",
    "\n",
    "    assert tfidf_representation.shape[0] == one_hot_representation.shape[0] == len(data)\n",
    "\n",
    "    return updated_data\n",
    "\n",
    "\n",
    "if __name__ == \"__main__\":\n",
    "    from preprocessing import load_data\n",
    "\n",
    "    raw_data = load_data(path=\"data/raw/train.json\")\n",
    "\n",
    "    processed_data = generate_representations(raw_data)\n",
    "\n",
    "    print(\"Saving updated data...\")\n",
    "    PROCESSED = \"data/processed/data.json\"  # output file\n",
    "    with open(PROCESSED, \"w\") as outfile:\n",
    "        json.dump(processed_data, outfile)\n"
   ]
  }
 ],
 "metadata": {
  "kernelspec": {
   "display_name": "base",
   "language": "python",
   "name": "python3"
  },
  "language_info": {
   "codemirror_mode": {
    "name": "ipython",
    "version": 3
   },
   "file_extension": ".py",
   "mimetype": "text/x-python",
   "name": "python",
   "nbconvert_exporter": "python",
   "pygments_lexer": "ipython3",
   "version": "3.9.12 (main, Apr  5 2022, 01:52:34) \n[Clang 12.0.0 ]"
  },
  "orig_nbformat": 4,
  "vscode": {
   "interpreter": {
    "hash": "3d597f4c481aa0f25dceb95d2a0067e73c0966dcbd003d741d821a7208527ecf"
   }
  }
 },
 "nbformat": 4,
 "nbformat_minor": 2
}
