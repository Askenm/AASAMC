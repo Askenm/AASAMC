{
 "cells": [
  {
   "cell_type": "code",
   "execution_count": 20,
   "id": "7c41f35a",
   "metadata": {},
   "outputs": [],
   "source": [
    "from preprocessing import *\n",
    "import json\n",
    "import numpy as np\n",
    "from tqdm import tqdm\n",
    "import pickle\n",
    "from sklearn.feature_extraction.text import CountVectorizer\n",
    "from collections import Counter"
   ]
  },
  {
   "cell_type": "code",
   "execution_count": 21,
   "id": "9df26208",
   "metadata": {},
   "outputs": [],
   "source": [
    "data = load_data()\n",
    "labels,corpus = transform_corpus(data,threshold = 3)"
   ]
  },
  {
   "cell_type": "code",
   "execution_count": 23,
   "id": "b6856c93",
   "metadata": {},
   "outputs": [],
   "source": [
    "\n",
    "# create the transform\n",
    "vectorizer = CountVectorizer()\n",
    "# tokenize and build vocab\n",
    "vectorizer.fit(corpus)\n",
    "# summarize\n",
    "#print(vectorizer.vocabulary_)\n",
    "# encode document\n",
    "vector = vectorizer.transform(corpus)\n",
    "# summarize encoded vector\n",
    "\n"
   ]
  },
  {
   "cell_type": "code",
   "execution_count": 33,
   "id": "309943b5",
   "metadata": {},
   "outputs": [
    {
     "name": "stdout",
     "output_type": "stream",
     "text": [
      "(4196, 36701)\n",
      "<class 'scipy.sparse._csc.csc_matrix'>\n"
     ]
    }
   ],
   "source": [
    "vector = vector.T\n",
    "print(vector.shape)\n",
    "print(type(vector))\n",
    "\n",
    "\n",
    "\n"
   ]
  },
  {
   "cell_type": "code",
   "execution_count": null,
   "id": "58bcc098",
   "metadata": {},
   "outputs": [],
   "source": []
  },
  {
   "cell_type": "code",
   "execution_count": 30,
   "id": "dfde1a79",
   "metadata": {},
   "outputs": [
    {
     "name": "stdout",
     "output_type": "stream",
     "text": [
      "(36701,)\n"
     ]
    },
    {
     "data": {
      "text/plain": [
       "(1, 36701)"
      ]
     },
     "execution_count": 30,
     "metadata": {},
     "output_type": "execute_result"
    }
   ],
   "source": [
    "arr = np.asarray(labels)\n",
    "print(arr.shape)\n",
    "arr.resize(np.asarray(labels).shape[0],1)\n",
    "arr = arr.T\n",
    "arr.shape"
   ]
  },
  {
   "cell_type": "code",
   "execution_count": 34,
   "id": "b1464740",
   "metadata": {},
   "outputs": [
    {
     "data": {
      "text/plain": [
       "(4196, 36701)"
      ]
     },
     "execution_count": 34,
     "metadata": {},
     "output_type": "execute_result"
    }
   ],
   "source": [
    "vector.shape"
   ]
  },
  {
   "cell_type": "code",
   "execution_count": 46,
   "id": "f0e94983",
   "metadata": {},
   "outputs": [
    {
     "data": {
      "text/plain": [
       "(36701, 4196)"
      ]
     },
     "execution_count": 46,
     "metadata": {},
     "output_type": "execute_result"
    }
   ],
   "source": [
    "vector.shape"
   ]
  },
  {
   "cell_type": "code",
   "execution_count": 47,
   "id": "ff0dbb6e",
   "metadata": {},
   "outputs": [
    {
     "data": {
      "text/plain": [
       "(36701, 1)"
      ]
     },
     "execution_count": 47,
     "metadata": {},
     "output_type": "execute_result"
    }
   ],
   "source": [
    "arr.T.shape"
   ]
  },
  {
   "cell_type": "code",
   "execution_count": null,
   "id": "cfc7b2c8",
   "metadata": {},
   "outputs": [],
   "source": []
  }
 ],
 "metadata": {
  "kernelspec": {
   "display_name": "Python 3 (ipykernel)",
   "language": "python",
   "name": "python3"
  },
  "language_info": {
   "codemirror_mode": {
    "name": "ipython",
    "version": 3
   },
   "file_extension": ".py",
   "mimetype": "text/x-python",
   "name": "python",
   "nbconvert_exporter": "python",
   "pygments_lexer": "ipython3",
   "version": "3.9.13"
  }
 },
 "nbformat": 4,
 "nbformat_minor": 5
}
