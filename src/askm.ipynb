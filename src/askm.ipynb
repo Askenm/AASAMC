{
 "cells": [
  {
   "cell_type": "code",
   "execution_count": 39,
   "id": "c23a3d4a",
   "metadata": {
    "scrolled": true
   },
   "outputs": [],
   "source": [
    "import pandas as pd\n",
    "from sklearn.datasets import load_wine\n",
    "import numpy as np\n",
    "import mifs\n",
    "\n",
    "\n",
    "wine = load_wine()\n",
    "\n",
    "X, y = wine.data, wine.target\n",
    "\n",
    "# define MI_FS feature selection method\n",
    "feat_selector = mifs.MutualInformationFeatureSelector(method='MRMR',k=25,n_features=13)\n",
    "\n",
    "# find all relevant features\n",
    "feat_selector.fit(X, y)\n",
    "\n",
    "# check selected features\n",
    "feat_selector._support_mask\n",
    "\n",
    "# check ranking of features\n",
    "feat_selector.ranking_\n",
    "\n",
    "# call transform() on X to filter it down to selected features\n",
    "X_filtered = feat_selector.transform(X)"
   ]
  },
  {
   "cell_type": "code",
   "execution_count": 46,
   "id": "78448da7",
   "metadata": {},
   "outputs": [
    {
     "data": {
      "text/plain": [
       "[12]"
      ]
     },
     "execution_count": 46,
     "metadata": {},
     "output_type": "execute_result"
    }
   ],
   "source": [
    "features = wine.feature_names\n",
    "ranked_features ={\"rank\": [], \"feature\": []}\n",
    "\n",
    "unused = [i for i in range(13)]\n",
    "for rank,ix in enumerate(feat_selector.ranking_):\n",
    "    ranked_features['rank'].append(rank)\n",
    "    ranked_features['feature'].append(features[ix])\n",
    "    unused.pop(unused.index(ix))\n",
    "\n",
    "    \n",
    "ranked_features['rank'].append(rank+1)\n",
    "ranked_features['feature'].append(features[12])\n",
    "    \n",
    "ranked_features = pd.DataFrame(ranked_features)"
   ]
  },
  {
   "cell_type": "code",
   "execution_count": 47,
   "id": "336ca157",
   "metadata": {},
   "outputs": [
    {
     "data": {
      "text/html": [
       "<div>\n",
       "<style scoped>\n",
       "    .dataframe tbody tr th:only-of-type {\n",
       "        vertical-align: middle;\n",
       "    }\n",
       "\n",
       "    .dataframe tbody tr th {\n",
       "        vertical-align: top;\n",
       "    }\n",
       "\n",
       "    .dataframe thead th {\n",
       "        text-align: right;\n",
       "    }\n",
       "</style>\n",
       "<table border=\"1\" class=\"dataframe\">\n",
       "  <thead>\n",
       "    <tr style=\"text-align: right;\">\n",
       "      <th></th>\n",
       "      <th>rank</th>\n",
       "      <th>feature</th>\n",
       "    </tr>\n",
       "  </thead>\n",
       "  <tbody>\n",
       "    <tr>\n",
       "      <th>0</th>\n",
       "      <td>0</td>\n",
       "      <td>flavanoids</td>\n",
       "    </tr>\n",
       "    <tr>\n",
       "      <th>1</th>\n",
       "      <td>1</td>\n",
       "      <td>color_intensity</td>\n",
       "    </tr>\n",
       "    <tr>\n",
       "      <th>2</th>\n",
       "      <td>2</td>\n",
       "      <td>malic_acid</td>\n",
       "    </tr>\n",
       "    <tr>\n",
       "      <th>3</th>\n",
       "      <td>3</td>\n",
       "      <td>od280/od315_of_diluted_wines</td>\n",
       "    </tr>\n",
       "    <tr>\n",
       "      <th>4</th>\n",
       "      <td>4</td>\n",
       "      <td>alcohol</td>\n",
       "    </tr>\n",
       "    <tr>\n",
       "      <th>5</th>\n",
       "      <td>5</td>\n",
       "      <td>hue</td>\n",
       "    </tr>\n",
       "    <tr>\n",
       "      <th>6</th>\n",
       "      <td>6</td>\n",
       "      <td>alcalinity_of_ash</td>\n",
       "    </tr>\n",
       "    <tr>\n",
       "      <th>7</th>\n",
       "      <td>7</td>\n",
       "      <td>magnesium</td>\n",
       "    </tr>\n",
       "    <tr>\n",
       "      <th>8</th>\n",
       "      <td>8</td>\n",
       "      <td>total_phenols</td>\n",
       "    </tr>\n",
       "    <tr>\n",
       "      <th>9</th>\n",
       "      <td>9</td>\n",
       "      <td>nonflavanoid_phenols</td>\n",
       "    </tr>\n",
       "    <tr>\n",
       "      <th>10</th>\n",
       "      <td>10</td>\n",
       "      <td>proanthocyanins</td>\n",
       "    </tr>\n",
       "    <tr>\n",
       "      <th>11</th>\n",
       "      <td>11</td>\n",
       "      <td>ash</td>\n",
       "    </tr>\n",
       "    <tr>\n",
       "      <th>12</th>\n",
       "      <td>12</td>\n",
       "      <td>proline</td>\n",
       "    </tr>\n",
       "  </tbody>\n",
       "</table>\n",
       "</div>"
      ],
      "text/plain": [
       "    rank                       feature\n",
       "0      0                    flavanoids\n",
       "1      1               color_intensity\n",
       "2      2                    malic_acid\n",
       "3      3  od280/od315_of_diluted_wines\n",
       "4      4                       alcohol\n",
       "5      5                           hue\n",
       "6      6             alcalinity_of_ash\n",
       "7      7                     magnesium\n",
       "8      8                 total_phenols\n",
       "9      9          nonflavanoid_phenols\n",
       "10    10               proanthocyanins\n",
       "11    11                           ash\n",
       "12    12                       proline"
      ]
     },
     "execution_count": 47,
     "metadata": {},
     "output_type": "execute_result"
    }
   ],
   "source": [
    "ranked_features.sort_values('rank')"
   ]
  },
  {
   "cell_type": "code",
   "execution_count": 28,
   "id": "2adfc9c7",
   "metadata": {},
   "outputs": [
    {
     "data": {
      "text/plain": [
       "[6, 9, 1, 11, 0, 10, 3, 4, 5, 7, 8, 2]"
      ]
     },
     "execution_count": 28,
     "metadata": {},
     "output_type": "execute_result"
    }
   ],
   "source": [
    "feat_selector.ranking_"
   ]
  },
  {
   "cell_type": "code",
   "execution_count": 42,
   "id": "ac234ff2",
   "metadata": {},
   "outputs": [
    {
     "data": {
      "text/plain": [
       "'proline'"
      ]
     },
     "execution_count": 42,
     "metadata": {},
     "output_type": "execute_result"
    }
   ],
   "source": []
  },
  {
   "cell_type": "code",
   "execution_count": null,
   "id": "1976dd73",
   "metadata": {},
   "outputs": [],
   "source": []
  }
 ],
 "metadata": {
  "kernelspec": {
   "display_name": "Python 3 (ipykernel)",
   "language": "python",
   "name": "python3"
  },
  "language_info": {
   "codemirror_mode": {
    "name": "ipython",
    "version": 3
   },
   "file_extension": ".py",
   "mimetype": "text/x-python",
   "name": "python",
   "nbconvert_exporter": "python",
   "pygments_lexer": "ipython3",
   "version": "3.9.13"
  }
 },
 "nbformat": 4,
 "nbformat_minor": 5
}
