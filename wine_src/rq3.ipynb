{
 "cells": [
  {
   "cell_type": "code",
   "execution_count": 1,
   "metadata": {},
   "outputs": [],
   "source": [
    "import pandas as pd\n",
    "from sklearn.datasets import load_wine\n",
    "\n",
    "wine = load_wine()\n",
    "df = pd.DataFrame(wine.data, columns=wine.feature_names)\n",
    "df['target'] = wine.target"
   ]
  },
  {
   "attachments": {},
   "cell_type": "markdown",
   "metadata": {},
   "source": [
    "In this section we'll check for performance increase when apply two kinds of data transformation:\n",
    "\n",
    "1. Apply a standard scaler to the data\n",
    "2. Add a PCA transformation to the data"
   ]
  },
  {
   "cell_type": "code",
   "execution_count": null,
   "metadata": {},
   "outputs": [],
   "source": [
    "# Standardize the data\n",
    "from sklearn.preprocessing import StandardScaler\n",
    "scaler = StandardScaler()\n",
    "data = {\"scaled\":pd.DataFrame(scaler.fit_transform(df), columns=df.columns),\"raw\":df}"
   ]
  },
  {
   "cell_type": "code",
   "execution_count": null,
   "metadata": {},
   "outputs": [],
   "source": [
    "from pomegranate import GeneralMixtureModel,LogNormalDistribution,GammaDistribution,NormalDistribution\n",
    "import numpy as np\n",
    "from sklearn.model_selection import train_test_split\n",
    "from sklearn.metrics import adjusted_mutual_info_score\n",
    "from sklearn.preprocessing import StandardScaler\n",
    "\n",
    "distributions = {\n",
    "    \"lognormal\": LogNormalDistribution,\n",
    "    \"gamma\":GammaDistribution,\n",
    "    \"normal\":NormalDistribution\n",
    "    }\n",
    "num_iters = 25\n",
    "\n",
    "\n",
    "wine = load_wine()\n",
    "features, labels = wine.data, wine.target\n",
    "data_df = pd.DataFrame(wine.data, columns=wine.feature_names)\n",
    "data_df['target'] = wine.target\n",
    "\n",
    "results = {'distribution':[],\n",
    "           'mutual_information':[]}\n",
    "\n",
    "for iteration in range(num_iters):\n",
    "    \n",
    "\n",
    "\n",
    "\n",
    "    X_train, X_test, y_train, y_test = train_test_split(features,\n",
    "                        labels,\n",
    "                        test_size=0.2,\n",
    "                        stratify=labels)\n",
    "\n",
    "    #scaler = StandardScaler()\n",
    "    #X_train = scaler.fit_transform(X_train)\n",
    "    #X_test = scaler.transform(X_test)\n",
    "\n",
    "    for name, distribution in distributions.items():\n",
    "\n",
    "        model = GeneralMixtureModel.from_samples(distribution, n_components=3,X=X_train)\n",
    "        model.fit(X_train)\n",
    "        y_pred = model.predict(X_test)\n",
    "\n",
    "        results['distribution'].append(name)\n",
    "        results['mutual_information'].append(adjusted_mutual_info_score(y_test, y_pred))\n",
    "\n",
    "\n",
    "pd.DataFrame(results).groupby('distribution').mean().sort_values('mutual_information',ascending=False).to_csv('results/mixture_models.csv')"
   ]
  }
 ],
 "metadata": {
  "kernelspec": {
   "display_name": ".venv",
   "language": "python",
   "name": "python3"
  },
  "language_info": {
   "codemirror_mode": {
    "name": "ipython",
    "version": 3
   },
   "file_extension": ".py",
   "mimetype": "text/x-python",
   "name": "python",
   "nbconvert_exporter": "python",
   "pygments_lexer": "ipython3",
   "version": "3.9.12"
  },
  "orig_nbformat": 4,
  "vscode": {
   "interpreter": {
    "hash": "31df09309b7e51726da855a4f598f2d34b12b6bac7bb5da1e6506c78f0d7a898"
   }
  }
 },
 "nbformat": 4,
 "nbformat_minor": 2
}
